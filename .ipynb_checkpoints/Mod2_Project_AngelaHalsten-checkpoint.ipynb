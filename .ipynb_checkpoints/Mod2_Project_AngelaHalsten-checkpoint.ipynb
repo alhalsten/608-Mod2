{
 "cells": [
  {
   "cell_type": "code",
   "execution_count": 20,
   "id": "28713255-c9d5-4e3a-ac44-1394596f03e7",
   "metadata": {},
   "outputs": [
    {
     "data": {
      "text/plain": [
       "6"
      ]
     },
     "execution_count": 20,
     "metadata": {},
     "output_type": "execute_result"
    }
   ],
   "source": [
    "values=[47,95,88,73,88,84]\n",
    "len(values)"
   ]
  },
  {
   "cell_type": "code",
   "execution_count": 21,
   "id": "1f11c1aa-111e-4495-9b03-006c64696a10",
   "metadata": {},
   "outputs": [
    {
     "data": {
      "text/plain": [
       "475"
      ]
     },
     "execution_count": 21,
     "metadata": {},
     "output_type": "execute_result"
    }
   ],
   "source": [
    "sum(values)"
   ]
  },
  {
   "cell_type": "code",
   "execution_count": 22,
   "id": "df6e6755-edc9-4d45-a0b4-10de47bda192",
   "metadata": {},
   "outputs": [
    {
     "data": {
      "text/plain": [
       "79.16666666666667"
      ]
     },
     "execution_count": 22,
     "metadata": {},
     "output_type": "execute_result"
    }
   ],
   "source": [
    "sum(values)/len(values)"
   ]
  },
  {
   "cell_type": "code",
   "execution_count": 23,
   "id": "c19280a0-6878-492e-b3ab-f1eedfa7f7f9",
   "metadata": {},
   "outputs": [
    {
     "data": {
      "text/plain": [
       "79.16666666666667"
      ]
     },
     "execution_count": 23,
     "metadata": {},
     "output_type": "execute_result"
    }
   ],
   "source": [
    "import statistics\n",
    "statistics.mean(values)"
   ]
  },
  {
   "cell_type": "code",
   "execution_count": 24,
   "id": "9304dda3-fc6e-41a3-ab05-c84adf07eb1e",
   "metadata": {},
   "outputs": [
    {
     "data": {
      "text/plain": [
       "86.0"
      ]
     },
     "execution_count": 24,
     "metadata": {},
     "output_type": "execute_result"
    }
   ],
   "source": [
    "statistics.median(values)"
   ]
  },
  {
   "cell_type": "code",
   "execution_count": 25,
   "id": "2aa9c09d-ac8b-40e7-b3c7-aa0c8fba166b",
   "metadata": {},
   "outputs": [
    {
     "data": {
      "text/plain": [
       "88"
      ]
     },
     "execution_count": 25,
     "metadata": {},
     "output_type": "execute_result"
    }
   ],
   "source": [
    "statistics.mode(values)"
   ]
  },
  {
   "cell_type": "code",
   "execution_count": 26,
   "id": "c635d315-3325-4bb4-b00e-330fd97bc688",
   "metadata": {},
   "outputs": [
    {
     "data": {
      "text/plain": [
       "6"
      ]
     },
     "execution_count": 26,
     "metadata": {},
     "output_type": "execute_result"
    }
   ],
   "source": [
    "myvalues=[15,22,26,28,22,37]\n",
    "len(myvalues)"
   ]
  },
  {
   "cell_type": "code",
   "execution_count": 27,
   "id": "7a9b37a3-2125-42fd-ba1d-ad66a0290a5e",
   "metadata": {},
   "outputs": [
    {
     "data": {
      "text/plain": [
       "150"
      ]
     },
     "execution_count": 27,
     "metadata": {},
     "output_type": "execute_result"
    }
   ],
   "source": [
    "sum(myvalues)"
   ]
  },
  {
   "cell_type": "code",
   "execution_count": 28,
   "id": "9c05bf90-9d05-4635-a13b-5a0544cdb8f6",
   "metadata": {},
   "outputs": [
    {
     "data": {
      "text/plain": [
       "25"
      ]
     },
     "execution_count": 28,
     "metadata": {},
     "output_type": "execute_result"
    }
   ],
   "source": [
    "import statistics\n",
    "statistics.mean(myvalues)"
   ]
  },
  {
   "cell_type": "code",
   "execution_count": 29,
   "id": "3cfd9cf6-6c08-46a6-82b5-076611604a10",
   "metadata": {},
   "outputs": [
    {
     "data": {
      "text/plain": [
       "24.0"
      ]
     },
     "execution_count": 29,
     "metadata": {},
     "output_type": "execute_result"
    }
   ],
   "source": [
    "statistics.median(myvalues)"
   ]
  },
  {
   "cell_type": "code",
   "execution_count": 30,
   "id": "ec950158-9660-4b77-9d65-be2694ae2544",
   "metadata": {},
   "outputs": [
    {
     "data": {
      "text/plain": [
       "22"
      ]
     },
     "execution_count": 30,
     "metadata": {},
     "output_type": "execute_result"
    }
   ],
   "source": [
    "statistics.mode(myvalues)"
   ]
  }
 ],
 "metadata": {
  "kernelspec": {
   "display_name": "Python 3 (ipykernel)",
   "language": "python",
   "name": "python3"
  },
  "language_info": {
   "codemirror_mode": {
    "name": "ipython",
    "version": 3
   },
   "file_extension": ".py",
   "mimetype": "text/x-python",
   "name": "python",
   "nbconvert_exporter": "python",
   "pygments_lexer": "ipython3",
   "version": "3.9.12"
  }
 },
 "nbformat": 4,
 "nbformat_minor": 5
}
