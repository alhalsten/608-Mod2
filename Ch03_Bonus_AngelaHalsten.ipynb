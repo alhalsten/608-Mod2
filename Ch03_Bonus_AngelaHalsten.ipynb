{
 "cells": [
  {
   "cell_type": "code",
   "execution_count": 5,
   "id": "8b16f4d0-28b8-4075-9141-5623ee42c3bb",
   "metadata": {},
   "outputs": [
    {
     "data": {
      "text/plain": [
       "100"
      ]
     },
     "execution_count": 5,
     "metadata": {},
     "output_type": "execute_result"
    }
   ],
   "source": [
    "import statistics\n",
    "scores=[24,20,23,20,22,24,21,21,21,20,20,18,17.5,21,16,17.5,20,23,22,\n",
    "                 20,24,21,23,24,23,23,16,22,22.5,23,23,23,22,22,18,24,22,22,21,\n",
    "                 21,22,21,20,22,23,22,22,19,22,23,22,19,18,17,20,18,21,19,17,21.5,\n",
    "                 25,0,0,12,13,12,16,17,15,19,20,21,18,15,14,12,10,11,17,14,15,19,\n",
    "                 5,8,8,13,15,11,9,7,14,22,16,18,13,15,7,11,18,5]\n",
    "len(scores)"
   ]
  },
  {
   "cell_type": "code",
   "execution_count": 6,
   "id": "4db3d5cc-7b4a-4b9d-89ab-ab3de8f3f2bb",
   "metadata": {},
   "outputs": [
    {
     "data": {
      "text/plain": [
       "1789.0"
      ]
     },
     "execution_count": 6,
     "metadata": {},
     "output_type": "execute_result"
    }
   ],
   "source": [
    "sum(scores)"
   ]
  },
  {
   "cell_type": "code",
   "execution_count": 7,
   "id": "cfe6b7da-f293-4ad6-8422-0c834b84d13b",
   "metadata": {},
   "outputs": [
    {
     "data": {
      "text/plain": [
       "17.89"
      ]
     },
     "execution_count": 7,
     "metadata": {},
     "output_type": "execute_result"
    }
   ],
   "source": [
    "statistics.mean(scores)"
   ]
  },
  {
   "cell_type": "code",
   "execution_count": 8,
   "id": "937a5dd2-fd76-4c5a-be47-701048a75d67",
   "metadata": {},
   "outputs": [
    {
     "data": {
      "text/plain": [
       "20.0"
      ]
     },
     "execution_count": 8,
     "metadata": {},
     "output_type": "execute_result"
    }
   ],
   "source": [
    "statistics.median(scores)"
   ]
  },
  {
   "cell_type": "code",
   "execution_count": 9,
   "id": "5695db91-703b-4784-892d-adb606b9c400",
   "metadata": {},
   "outputs": [
    {
     "data": {
      "text/plain": [
       "22"
      ]
     },
     "execution_count": 9,
     "metadata": {},
     "output_type": "execute_result"
    }
   ],
   "source": [
    "statistics.mode(scores)"
   ]
  }
 ],
 "metadata": {
  "kernelspec": {
   "display_name": "Python 3 (ipykernel)",
   "language": "python",
   "name": "python3"
  },
  "language_info": {
   "codemirror_mode": {
    "name": "ipython",
    "version": 3
   },
   "file_extension": ".py",
   "mimetype": "text/x-python",
   "name": "python",
   "nbconvert_exporter": "python",
   "pygments_lexer": "ipython3",
   "version": "3.9.12"
  }
 },
 "nbformat": 4,
 "nbformat_minor": 5
}
